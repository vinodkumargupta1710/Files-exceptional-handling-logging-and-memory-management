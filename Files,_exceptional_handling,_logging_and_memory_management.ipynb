{
  "nbformat": 4,
  "nbformat_minor": 0,
  "metadata": {
    "colab": {
      "provenance": []
    },
    "kernelspec": {
      "name": "python3",
      "display_name": "Python 3"
    },
    "language_info": {
      "name": "python"
    }
  },
  "cells": [
    {
      "cell_type": "markdown",
      "source": [
        "# Theory Questions :"
      ],
      "metadata": {
        "id": "GZxFtuD70PKB"
      }
    },
    {
      "cell_type": "markdown",
      "source": [
        "#1. What is the difference between interpreted and compiled languages?\n",
        "**Answer** : Interpreted languages (e.g. Python) execute code line-by-line using an interpreter, making them easier to debug and run without compilation. Compiled languages (e.g. C++) are translated into machine code before execution using a compiler, resulting in faster performance.\n",
        "\n",
        "#2. What is exception handling in Python?\n",
        "**Answer** : Exception handling in Python is used to handle errors during program execution using try, except, else and finally blocks to prevent the program from crashing.\n",
        "\n",
        "#3. What is the purpose of the finally block in exception handling?\n",
        "**Answer** : The finally block is used to define cleanup actions that must be executed, regardless of whether an exception was raised or not.\n",
        "\n",
        "#4. What is logging in Python?\n",
        "**Answer** : Logging in Python is the process of recording messages about the execution of a program. The logging module helps in tracking events, errors or debugging information.\n",
        "\n",
        "#5. What is the significance of the __del__ method in Python?\n",
        "**Answer** : The __del__ method is a destructor method called when an object is about to be destroyed. It is used to clean up resources like files or network connections.\n",
        "\n",
        "#6. What is the difference between import and from ... import in Python?\n",
        "**Answer** : import module: Imports the whole module. You need to use module.function().\n",
        "\n",
        "from module import function: Directly imports specific functions or classes, so you can use function() directly.\n",
        "\n",
        "#7. How can you handle multiple exceptions in Python?\n",
        "**Answer** : You can handle multiple exceptions using multiple except blocks or by grouping them in a tuple.\n",
        "\n",
        "#8. What is the purpose of the with statement when handling files in Python?\n",
        "**Answer** : The with statement automatically manages file opening and closing, ensuring resources are properly released, even if an exception occurs.\n",
        "\n",
        "#9. What is the difference between multithreading and multiprocessing?\n",
        "**Answer** :\n",
        "\n",
        "Multithreading: Runs multiple threads within the same process (shared memory).\n",
        "\n",
        "Multiprocessing: Runs multiple processes with separate memory spaces for true parallelism.\n",
        "\n",
        "#10. What are the advantages of using logging in a program?\n",
        "**Answer** : Logging provides a way to track errors, monitor program execution, debug problems, and maintain audit trails without interrupting the program flow.\n",
        "\n",
        "#11. What is memory management in Python?\n",
        "**Answer** : Memory management in Python involves allocating and freeing memory during program execution. Python uses reference counting and a garbage collector for automatic memory management.\n",
        "\n",
        "#12. What are the basic steps involved in exception handling in Python?\n",
        "**Answer** :\n",
        "\n",
        "Step 1. Use try to write code that may raise an exception.\n",
        "\n",
        "Step 2. Use except to catch and handle the exception.\n",
        "\n",
        "Step 3. Optionally use else for code to run if no exception occurs.\n",
        "\n",
        "Step 4. Use finally to run code regardless of an exception.\n",
        "\n",
        "#13. Why is memory management important in Python?\n",
        "**Answer** : Proper memory management ensures efficient use of memory, prevents memory leaks and improves program performance and stability.\n",
        "\n",
        "#14. What is the role of try and except in exception handling?\n",
        "**Answer** :\n",
        "\n",
        "**try** : Contains the code that may raise an exception.\n",
        "\n",
        "**except** : Handles the error if an exception occurs.\n",
        "\n",
        "#15. How does Python's garbage collection system work?\n",
        "**Answer** : Python uses reference counting and a cyclic garbage collector to automatically free memory that is no longer in use by the program.\n",
        "\n",
        "#16. What is the purpose of the else block in exception handling?\n",
        "**Answer** : The else block runs only if the try block does not raise any exception. It's used for code that should execute only when no errors occur.\n",
        "\n",
        "#17. What are the common logging levels in Python?\n",
        "**Answer** :\n",
        "\n",
        "- DEBUG\n",
        "\n",
        "- INFO\n",
        "\n",
        "- WARNING\n",
        "\n",
        "- ERROR\n",
        "\n",
        "- CRITICAL\n",
        "\n",
        "#18. What is the difference between os.fork() and multiprocessing in Python?\n",
        "**Answer** :\n",
        "\n",
        "os.fork() is Unix-specific and creates a new child process.\n",
        "\n",
        "multiprocessing is a cross-platform module that supports creating processes and managing inter-process communication.\n",
        "\n",
        "#19. What is the importance of closing a file in Python?\n",
        "**Answer** : Closing a file releases system resources, ensures all data is written (flushed) to the disk, and prevents data corruption.\n",
        "\n",
        "#20. What is the difference between file.read() and file.readline() in Python?\n",
        "**Answer** :\n",
        "\n",
        "file.read() : Reads the entire file.\n",
        "\n",
        "file.readline() : Reads one line at a time.\n",
        "\n",
        "#21. What is the logging module in Python used for?\n",
        "**Answer** : The logging module provides a flexible framework for emitting log messages from Python programs, helping in tracking the flow and errors.\n",
        "\n",
        "#22. What is the os module in Python used for in file handling?\n",
        "**Answer** : The os module allows interaction with the operating system, such as creating, deleting, renaming files and navigating directories.\n",
        "\n",
        "#23. What are the challenges associated with memory management in Python?\n",
        "**Answer** : Challenges include handling circular references, memory leaks in large applications and optimizing memory usage for performance.\n",
        "\n",
        "#24. How do you raise an exception manually in Python?\n",
        "**Answer** :\n",
        "Use the raise keyword :->> raise ValueError(\"Invalid input\")\n",
        "\n",
        "#25. Why is it important to use multithreading in certain applications?\n",
        "**Answer** : Multithreading helps improve performance by allowing concurrent execution of tasks, especially for I/O-bound operations like file handling and network communication.\n",
        "\n",
        "\n",
        "\n"
      ],
      "metadata": {
        "id": "DDOgWb400U5n"
      }
    },
    {
      "cell_type": "markdown",
      "source": [
        "# Practical Questions :"
      ],
      "metadata": {
        "id": "NWDHtbHVhA3p"
      }
    },
    {
      "cell_type": "markdown",
      "source": [
        "#1. How can you open a file for writing in Python and write a string to it?"
      ],
      "metadata": {
        "id": "2MJwdsubNk5T"
      }
    },
    {
      "cell_type": "code",
      "source": [
        "with open(\"example.txt\", \"w\") as file:\n",
        "    file.write(\"Hello, this is a sample text.\")"
      ],
      "metadata": {
        "id": "fQo4XBFZcRIx"
      },
      "execution_count": null,
      "outputs": []
    },
    {
      "cell_type": "markdown",
      "source": [
        "#2. Write a Python program to read the contents of a file and print each line."
      ],
      "metadata": {
        "id": "KzKVvGdiOAeO"
      }
    },
    {
      "cell_type": "code",
      "source": [
        "with open(\"example.txt\", \"r\") as file:\n",
        "    for line in file:\n",
        "        print(line.strip())"
      ],
      "metadata": {
        "id": "Ipo-XMtuf4Ea",
        "colab": {
          "base_uri": "https://localhost:8080/"
        },
        "outputId": "7e22f651-14e1-45c2-b815-2c8342ed7d3b"
      },
      "execution_count": null,
      "outputs": [
        {
          "output_type": "stream",
          "name": "stdout",
          "text": [
            "Hello, this is a sample text.\n"
          ]
        }
      ]
    },
    {
      "cell_type": "markdown",
      "source": [
        "#3. How would you handle a case where the file doesn't exist while trying to open it for reading?"
      ],
      "metadata": {
        "id": "ZGvkkzX6OJXK"
      }
    },
    {
      "cell_type": "code",
      "source": [
        "try:\n",
        "    with open(\"nonexistent.txt\", \"r\") as file:\n",
        "        content = file.read()\n",
        "except FileNotFoundError:\n",
        "    print(\"The file does not exist.\")"
      ],
      "metadata": {
        "colab": {
          "base_uri": "https://localhost:8080/"
        },
        "id": "I9tbdbr-OEs3",
        "outputId": "15e3ad1d-dcf4-4bc6-e368-f408a6023b81"
      },
      "execution_count": null,
      "outputs": [
        {
          "output_type": "stream",
          "name": "stdout",
          "text": [
            "The file does not exist.\n"
          ]
        }
      ]
    },
    {
      "cell_type": "markdown",
      "source": [
        "#4. Write a Python script that reads from one file and writes its content to another file."
      ],
      "metadata": {
        "id": "WR7_trKvORm9"
      }
    },
    {
      "cell_type": "code",
      "source": [
        "with open(\"source.txt\", \"r\") as src, open(\"destination.txt\", \"w\") as dest:\n",
        "    for line in src:\n",
        "        dest.write(line)"
      ],
      "metadata": {
        "id": "I9CnhBdLONCs"
      },
      "execution_count": null,
      "outputs": []
    },
    {
      "cell_type": "markdown",
      "source": [
        "#5. How would you catch and handle division by zero error in Python?"
      ],
      "metadata": {
        "id": "leLS8Y2cPT3i"
      }
    },
    {
      "cell_type": "code",
      "source": [
        "try:\n",
        "    result = 10 / 0\n",
        "except ZeroDivisionError:\n",
        "    print(\"You cannot divide by zero.\")"
      ],
      "metadata": {
        "colab": {
          "base_uri": "https://localhost:8080/"
        },
        "id": "oaklpPH3Okul",
        "outputId": "10031e3c-ffd0-4118-aec4-7e6fe5828b9e"
      },
      "execution_count": null,
      "outputs": [
        {
          "output_type": "stream",
          "name": "stdout",
          "text": [
            "You cannot divide by zero.\n"
          ]
        }
      ]
    },
    {
      "cell_type": "markdown",
      "source": [
        "#6. Write a Python program that logs an error message to a log file when a division by zero exception occurs."
      ],
      "metadata": {
        "id": "dITl_d6RPe8j"
      }
    },
    {
      "cell_type": "code",
      "source": [
        "import logging\n",
        "\n",
        "logging.basicConfig(filename=\"error.log\", level=logging.ERROR)\n",
        "\n",
        "try:\n",
        "    result = 10 / 0\n",
        "except ZeroDivisionError as e:\n",
        "    logging.error(\"Division by zero error occurred: %s\", e)"
      ],
      "metadata": {
        "colab": {
          "base_uri": "https://localhost:8080/"
        },
        "id": "VU4OmZgyPa9X",
        "outputId": "5466ea37-3c71-465d-ad8e-685770f65452"
      },
      "execution_count": null,
      "outputs": [
        {
          "output_type": "stream",
          "name": "stderr",
          "text": [
            "ERROR:root:Division by zero error occurred: division by zero\n"
          ]
        }
      ]
    },
    {
      "cell_type": "markdown",
      "source": [
        "#7. How do you log information at different levels (INFO, ERROR, WARNING) in Python using the logging module?"
      ],
      "metadata": {
        "id": "UBuAWhyrPr9g"
      }
    },
    {
      "cell_type": "code",
      "source": [
        "import logging\n",
        "\n",
        "logging.basicConfig(level=logging.INFO)\n",
        "\n",
        "logging.debug(\"DEBUG message\")\n",
        "logging.info(\"INFO message\")\n",
        "logging.warning(\"WARNING message\")\n",
        "logging.error(\"ERROR message\")\n",
        "logging.critical(\"CRITICAL message\")\n"
      ],
      "metadata": {
        "colab": {
          "base_uri": "https://localhost:8080/"
        },
        "id": "J82t-ACfPvlg",
        "outputId": "5b53357a-1799-4110-e108-ae914e63cf18"
      },
      "execution_count": null,
      "outputs": [
        {
          "output_type": "stream",
          "name": "stderr",
          "text": [
            "WARNING:root:WARNING message\n",
            "ERROR:root:ERROR message\n",
            "CRITICAL:root:CRITICAL message\n"
          ]
        }
      ]
    },
    {
      "cell_type": "markdown",
      "source": [
        "#8. Write a program to handle a file opening error using exception handling."
      ],
      "metadata": {
        "id": "pOaMnLMzQioV"
      }
    },
    {
      "cell_type": "code",
      "source": [
        "try:\n",
        "    with open(\"nonexistent.txt\", \"r\") as file:\n",
        "        data = file.read()\n",
        "except FileNotFoundError:\n",
        "    print(\"Error: File not found.\")"
      ],
      "metadata": {
        "colab": {
          "base_uri": "https://localhost:8080/"
        },
        "id": "dfAzgJQrQH2D",
        "outputId": "d13004d2-3d89-462a-ad21-8c90f28333f3"
      },
      "execution_count": null,
      "outputs": [
        {
          "output_type": "stream",
          "name": "stdout",
          "text": [
            "Error: File not found.\n"
          ]
        }
      ]
    },
    {
      "cell_type": "markdown",
      "source": [
        "#9. How can you read a file line by line and store its content in a list in Python?"
      ],
      "metadata": {
        "id": "7pSyn6tgQwk3"
      }
    },
    {
      "cell_type": "code",
      "source": [
        "with open(\"example.txt\", \"r\") as file:\n",
        "    lines = file.readlines()\n",
        "\n",
        "print(lines)"
      ],
      "metadata": {
        "colab": {
          "base_uri": "https://localhost:8080/"
        },
        "id": "YRFynN_nQrAr",
        "outputId": "0215d0a6-7dbe-43e9-901d-8f4d3c4ba58c"
      },
      "execution_count": null,
      "outputs": [
        {
          "output_type": "stream",
          "name": "stdout",
          "text": [
            "['Hello, this is a sample text.']\n"
          ]
        }
      ]
    },
    {
      "cell_type": "markdown",
      "source": [
        "#10. How can you append data to an existing file in Python?"
      ],
      "metadata": {
        "id": "_d6nMey_RBrw"
      }
    },
    {
      "cell_type": "code",
      "source": [
        "with open(\"example.txt\", \"a\") as file:\n",
        "    file.write(\"\\nThis is an appended line.\")"
      ],
      "metadata": {
        "id": "913uUghbQ36Y"
      },
      "execution_count": null,
      "outputs": []
    },
    {
      "cell_type": "markdown",
      "source": [
        "#11. Write a Python program that uses a try-except block to handle an error when attempting to access a dictionary key that doesn't exist."
      ],
      "metadata": {
        "id": "2KWKBNF6RIs8"
      }
    },
    {
      "cell_type": "code",
      "source": [
        "data = {\"name\": \"John\"}\n",
        "\n",
        "try:\n",
        "    print(data[\"age\"])\n",
        "except KeyError:\n",
        "    print(\"Key 'age' not found in dictionary.\")"
      ],
      "metadata": {
        "colab": {
          "base_uri": "https://localhost:8080/"
        },
        "id": "38cqAmavRFOC",
        "outputId": "dd409fef-d81a-482f-9d5f-e57300dd2719"
      },
      "execution_count": null,
      "outputs": [
        {
          "output_type": "stream",
          "name": "stdout",
          "text": [
            "Key 'age' not found in dictionary.\n"
          ]
        }
      ]
    },
    {
      "cell_type": "markdown",
      "source": [
        "#12. Write a program that demonstrates using multiple except blocks to handle different types of exceptions."
      ],
      "metadata": {
        "id": "9b2b5lo9RTcn"
      }
    },
    {
      "cell_type": "code",
      "source": [
        "def demo_exceptions():\n",
        "    try:\n",
        "        num = int(input(\"Enter a number: \"))\n",
        "        result = 10 / num\n",
        "    except ValueError:\n",
        "        print(\"Invalid input! Please enter a valid number.\")\n",
        "    except ZeroDivisionError:\n",
        "        print(\"Cannot divide by zero!\")\n",
        "    except Exception as e:\n",
        "        print(f\"An unexpected error occurred: {e}\")\n",
        "    else:\n",
        "        print(f\"Result: {result}\")\n",
        "\n",
        "demo_exceptions()\n"
      ],
      "metadata": {
        "colab": {
          "base_uri": "https://localhost:8080/"
        },
        "id": "yksfLLb2Rc_j",
        "outputId": "efb46346-ea2e-497f-d577-b1115154db03"
      },
      "execution_count": null,
      "outputs": [
        {
          "output_type": "stream",
          "name": "stdout",
          "text": [
            "Enter a number: 12\n",
            "Result: 0.8333333333333334\n"
          ]
        }
      ]
    },
    {
      "cell_type": "markdown",
      "source": [
        "#13. How would you check if a file exists before attempting to read it in Python?"
      ],
      "metadata": {
        "id": "-yCJO9CKRz4Y"
      }
    },
    {
      "cell_type": "code",
      "source": [
        "import os\n",
        "\n",
        "if os.path.exists(\"example.txt\"):\n",
        "    with open(\"example.txt\", \"r\") as file:\n",
        "        print(file.read())\n",
        "else:\n",
        "    print(\"File does not exist.\")"
      ],
      "metadata": {
        "colab": {
          "base_uri": "https://localhost:8080/"
        },
        "id": "Gld-ikZDRr6J",
        "outputId": "9030abd7-4b2c-4ecd-d0ae-501e2b050a93"
      },
      "execution_count": null,
      "outputs": [
        {
          "output_type": "stream",
          "name": "stdout",
          "text": [
            "Hello, this is a sample text.\n",
            "This is an appended line.\n"
          ]
        }
      ]
    },
    {
      "cell_type": "markdown",
      "source": [
        "#14. Write a program that uses the logging module to log both informational and error messages."
      ],
      "metadata": {
        "id": "XBfrpK_VR84C"
      }
    },
    {
      "cell_type": "code",
      "source": [
        "import logging\n",
        "\n",
        "logging.basicConfig(filename=\"app.log\", level=logging.INFO)\n",
        "\n",
        "logging.info(\"Application started\")\n",
        "try:\n",
        "    result = 10 / 0\n",
        "except ZeroDivisionError:\n",
        "    logging.error(\"Division by zero occurred.\")\n"
      ],
      "metadata": {
        "colab": {
          "base_uri": "https://localhost:8080/"
        },
        "id": "olReusPZR77g",
        "outputId": "20864948-0df2-49cf-df52-a99b751f8a0d"
      },
      "execution_count": null,
      "outputs": [
        {
          "output_type": "stream",
          "name": "stderr",
          "text": [
            "ERROR:root:Division by zero occurred.\n"
          ]
        }
      ]
    },
    {
      "cell_type": "markdown",
      "source": [
        "#15. Write a Python program that prints the content of a file and handles the case when the file is empty."
      ],
      "metadata": {
        "id": "kWaAEIMRTPZe"
      }
    },
    {
      "cell_type": "code",
      "source": [
        "with open(\"example.txt\", \"r\") as file:\n",
        "    content = file.read()\n",
        "    if not content:\n",
        "        print(\"File is empty.\")\n",
        "    else:\n",
        "        print(content)"
      ],
      "metadata": {
        "colab": {
          "base_uri": "https://localhost:8080/"
        },
        "id": "oM6ij5azSJTJ",
        "outputId": "00095480-9886-4a17-f1f2-4f694f127695"
      },
      "execution_count": null,
      "outputs": [
        {
          "output_type": "stream",
          "name": "stdout",
          "text": [
            "Hello, this is a sample text.\n",
            "This is an appended line.\n"
          ]
        }
      ]
    },
    {
      "cell_type": "markdown",
      "source": [
        "#16. Demonstrate how to use memory profiling to check the memory usage of a small program."
      ],
      "metadata": {
        "id": "dS4f5kMcTbSP"
      }
    },
    {
      "cell_type": "code",
      "source": [
        "from memory_profiler import profile\n",
        "\n",
        "@profile\n",
        "def my_function():\n",
        "    a = [i for i in range(10000)]\n",
        "    return sum(a)\n",
        "\n",
        "my_function()"
      ],
      "metadata": {
        "id": "cl_cmFQuSnar"
      },
      "execution_count": null,
      "outputs": []
    },
    {
      "cell_type": "markdown",
      "source": [
        "#17. Write a Python program to create and write a list of numbers to a file, one number per line."
      ],
      "metadata": {
        "id": "5EmId82DUovD"
      }
    },
    {
      "cell_type": "code",
      "source": [
        "numbers = [1, 2, 3, 4, 5]\n",
        "\n",
        "with open(\"numbers.txt\", \"w\") as file:\n",
        "    for number in numbers:\n",
        "        file.write(f\"{number}\\n\")\n"
      ],
      "metadata": {
        "id": "Nf_FlKGFT_AV"
      },
      "execution_count": null,
      "outputs": []
    },
    {
      "cell_type": "markdown",
      "source": [
        "#18. How would you implement a basic logging setup that logs to a file with rotation after 1MB?"
      ],
      "metadata": {
        "id": "P8L7-taKU8-v"
      }
    },
    {
      "cell_type": "code",
      "source": [
        "import logging\n",
        "from logging.handlers import RotatingFileHandler\n",
        "\n",
        "handler = RotatingFileHandler(\"mylog.log\", maxBytes=1_000_000, backupCount=3)\n",
        "logging.basicConfig(handlers=[handler], level=logging.INFO)\n",
        "\n",
        "logging.info(\"This is a log message.\")"
      ],
      "metadata": {
        "id": "XhL4WVQVUwR3"
      },
      "execution_count": null,
      "outputs": []
    },
    {
      "cell_type": "markdown",
      "source": [
        "#19. Write a program that handles both IndexError and KeyError using a try-except block.\n"
      ],
      "metadata": {
        "id": "h2Dg-CadVMN2"
      }
    },
    {
      "cell_type": "code",
      "source": [
        "my_list = [1, 2, 3]\n",
        "my_dict = {\"a\": 1}\n",
        "\n",
        "try:\n",
        "    print(my_list[5])\n",
        "    print(my_dict[\"b\"])\n",
        "except IndexError:\n",
        "    print(\"IndexError occurred.\")\n",
        "except KeyError:\n",
        "    print(\"KeyError occurred.\")"
      ],
      "metadata": {
        "colab": {
          "base_uri": "https://localhost:8080/"
        },
        "id": "pE3uaU66VJwa",
        "outputId": "ed831847-3a50-4b9b-f428-3aa2fd600018"
      },
      "execution_count": null,
      "outputs": [
        {
          "output_type": "stream",
          "name": "stdout",
          "text": [
            "IndexError occurred.\n"
          ]
        }
      ]
    },
    {
      "cell_type": "markdown",
      "source": [
        "#20. How would you open a file and read its contents using a context manager in Python?"
      ],
      "metadata": {
        "id": "WsnxBXwvVdyM"
      }
    },
    {
      "cell_type": "code",
      "source": [
        "with open(\"example.txt\", \"r\") as file:\n",
        "    content = file.read()\n",
        "    print(content)"
      ],
      "metadata": {
        "colab": {
          "base_uri": "https://localhost:8080/"
        },
        "id": "eK55Ung3VTuc",
        "outputId": "9da7fdad-41bc-47a4-b292-db50f99fe8a9"
      },
      "execution_count": null,
      "outputs": [
        {
          "output_type": "stream",
          "name": "stdout",
          "text": [
            "Hello, this is a sample text.\n",
            "This is an appended line.\n"
          ]
        }
      ]
    },
    {
      "cell_type": "markdown",
      "source": [
        "#21. Write a Python program that reads a file and prints the number of occurrences of a specific word."
      ],
      "metadata": {
        "id": "KazMutlOVlzJ"
      }
    },
    {
      "cell_type": "code",
      "source": [
        "word_to_find = \"data\"\n",
        "count = 0\n",
        "\n",
        "with open(\"example.txt\", \"r\") as file:\n",
        "    for line in file:\n",
        "        count += line.lower().count(word_to_find.lower())\n",
        "\n",
        "print(f\"The word '{word_to_find}' occurred {count} times.\")\n"
      ],
      "metadata": {
        "colab": {
          "base_uri": "https://localhost:8080/"
        },
        "id": "kd9ZRn6JVjej",
        "outputId": "b41b4ef6-6b3d-4f36-fea8-c85d65751ea4"
      },
      "execution_count": null,
      "outputs": [
        {
          "output_type": "stream",
          "name": "stdout",
          "text": [
            "The word 'data' occurred 0 times.\n"
          ]
        }
      ]
    },
    {
      "cell_type": "markdown",
      "source": [
        "#22. How can you check if a file is empty before attempting to read its contents?"
      ],
      "metadata": {
        "id": "Hv8qejenVukz"
      }
    },
    {
      "cell_type": "code",
      "source": [
        "import os\n",
        "\n",
        "if os.stat(\"example.txt\").st_size == 0:\n",
        "    print(\"File is empty.\")\n",
        "else:\n",
        "    with open(\"example.txt\", \"r\") as file:\n",
        "        print(file.read())"
      ],
      "metadata": {
        "colab": {
          "base_uri": "https://localhost:8080/"
        },
        "id": "YjTOfpBLVsat",
        "outputId": "eb1c8a7d-f7cf-44fa-a322-51def7e7c529"
      },
      "execution_count": null,
      "outputs": [
        {
          "output_type": "stream",
          "name": "stdout",
          "text": [
            "Hello, this is a sample text.\n",
            "This is an appended line.\n"
          ]
        }
      ]
    },
    {
      "cell_type": "markdown",
      "source": [
        "#23. Write a Python program that writes to a log file when an error occurs during file handling."
      ],
      "metadata": {
        "id": "FgIF6Z2qV1Dk"
      }
    },
    {
      "cell_type": "code",
      "source": [
        "import logging\n",
        "\n",
        "logging.basicConfig(filename=\"file_error.log\", level=logging.ERROR)\n",
        "\n",
        "try:\n",
        "    with open(\"nonexistent.txt\", \"r\") as file:\n",
        "        content = file.read()\n",
        "except FileNotFoundError as e:\n",
        "    logging.error(\"File not found error: %s\", e)"
      ],
      "metadata": {
        "colab": {
          "base_uri": "https://localhost:8080/"
        },
        "id": "UtVAPk9iV0HR",
        "outputId": "7ee88f05-a0bb-4afe-cd73-cd8add664fa3"
      },
      "execution_count": null,
      "outputs": [
        {
          "output_type": "stream",
          "name": "stderr",
          "text": [
            "ERROR:root:File not found error: [Errno 2] No such file or directory: 'nonexistent.txt'\n"
          ]
        }
      ]
    },
    {
      "cell_type": "code",
      "source": [],
      "metadata": {
        "id": "_sobosIwV85m"
      },
      "execution_count": null,
      "outputs": []
    }
  ]
}